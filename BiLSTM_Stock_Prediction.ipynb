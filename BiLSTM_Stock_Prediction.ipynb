{
 "cells": [
  {
   "cell_type": "markdown",
   "id": "bdf7e275",
   "metadata": {},
   "source": [
    "## Import Library"
   ]
  },
  {
   "cell_type": "code",
   "execution_count": 1,
   "id": "e1b4ff41",
   "metadata": {},
   "outputs": [],
   "source": [
    "import pandas as pd\n",
    "import numpy as np\n",
    "import matplotlib.pyplot as plt\n",
    "\n",
    "import torch\n",
    "import torch.nn as nn"
   ]
  },
  {
   "cell_type": "code",
   "execution_count": 2,
   "id": "7e9fe2ee",
   "metadata": {},
   "outputs": [
    {
     "data": {
      "text/plain": [
       "'cuda:0'"
      ]
     },
     "execution_count": 2,
     "metadata": {},
     "output_type": "execute_result"
    }
   ],
   "source": [
    "device = 'cuda:0' if torch.cuda.is_available() else 'cpu'\n",
    "device"
   ]
  },
  {
   "cell_type": "markdown",
   "id": "af488a51",
   "metadata": {},
   "source": [
    "## Load Dataset"
   ]
  },
  {
   "cell_type": "code",
   "execution_count": 3,
   "id": "0eb261ca",
   "metadata": {},
   "outputs": [
    {
     "data": {
      "text/html": [
       "<div>\n",
       "<style scoped>\n",
       "    .dataframe tbody tr th:only-of-type {\n",
       "        vertical-align: middle;\n",
       "    }\n",
       "\n",
       "    .dataframe tbody tr th {\n",
       "        vertical-align: top;\n",
       "    }\n",
       "\n",
       "    .dataframe thead th {\n",
       "        text-align: right;\n",
       "    }\n",
       "</style>\n",
       "<table border=\"1\" class=\"dataframe\">\n",
       "  <thead>\n",
       "    <tr style=\"text-align: right;\">\n",
       "      <th></th>\n",
       "      <th>Date</th>\n",
       "      <th>Open</th>\n",
       "      <th>High</th>\n",
       "      <th>Low</th>\n",
       "      <th>Close</th>\n",
       "      <th>Adj Close</th>\n",
       "      <th>Volume</th>\n",
       "    </tr>\n",
       "  </thead>\n",
       "  <tbody>\n",
       "    <tr>\n",
       "      <th>0</th>\n",
       "      <td>2011-02-11</td>\n",
       "      <td>5.00</td>\n",
       "      <td>5.09</td>\n",
       "      <td>4.51</td>\n",
       "      <td>4.55</td>\n",
       "      <td>4.55</td>\n",
       "      <td>1899700</td>\n",
       "    </tr>\n",
       "    <tr>\n",
       "      <th>1</th>\n",
       "      <td>2011-02-14</td>\n",
       "      <td>4.53</td>\n",
       "      <td>4.73</td>\n",
       "      <td>4.35</td>\n",
       "      <td>4.38</td>\n",
       "      <td>4.38</td>\n",
       "      <td>66300</td>\n",
       "    </tr>\n",
       "    <tr>\n",
       "      <th>2</th>\n",
       "      <td>2011-02-15</td>\n",
       "      <td>4.50</td>\n",
       "      <td>4.50</td>\n",
       "      <td>4.08</td>\n",
       "      <td>4.31</td>\n",
       "      <td>4.31</td>\n",
       "      <td>37400</td>\n",
       "    </tr>\n",
       "    <tr>\n",
       "      <th>3</th>\n",
       "      <td>2011-02-16</td>\n",
       "      <td>4.37</td>\n",
       "      <td>4.37</td>\n",
       "      <td>4.15</td>\n",
       "      <td>4.24</td>\n",
       "      <td>4.24</td>\n",
       "      <td>9500</td>\n",
       "    </tr>\n",
       "    <tr>\n",
       "      <th>4</th>\n",
       "      <td>2011-02-17</td>\n",
       "      <td>4.14</td>\n",
       "      <td>4.22</td>\n",
       "      <td>3.85</td>\n",
       "      <td>3.85</td>\n",
       "      <td>3.85</td>\n",
       "      <td>60000</td>\n",
       "    </tr>\n",
       "    <tr>\n",
       "      <th>...</th>\n",
       "      <td>...</td>\n",
       "      <td>...</td>\n",
       "      <td>...</td>\n",
       "      <td>...</td>\n",
       "      <td>...</td>\n",
       "      <td>...</td>\n",
       "      <td>...</td>\n",
       "    </tr>\n",
       "    <tr>\n",
       "      <th>2294</th>\n",
       "      <td>2020-03-26</td>\n",
       "      <td>1.30</td>\n",
       "      <td>1.46</td>\n",
       "      <td>1.21</td>\n",
       "      <td>1.32</td>\n",
       "      <td>1.32</td>\n",
       "      <td>2487700</td>\n",
       "    </tr>\n",
       "    <tr>\n",
       "      <th>2295</th>\n",
       "      <td>2020-03-27</td>\n",
       "      <td>1.30</td>\n",
       "      <td>1.32</td>\n",
       "      <td>1.12</td>\n",
       "      <td>1.27</td>\n",
       "      <td>1.27</td>\n",
       "      <td>1068400</td>\n",
       "    </tr>\n",
       "    <tr>\n",
       "      <th>2296</th>\n",
       "      <td>2020-03-30</td>\n",
       "      <td>1.25</td>\n",
       "      <td>1.29</td>\n",
       "      <td>1.23</td>\n",
       "      <td>1.27</td>\n",
       "      <td>1.27</td>\n",
       "      <td>710200</td>\n",
       "    </tr>\n",
       "    <tr>\n",
       "      <th>2297</th>\n",
       "      <td>2020-03-31</td>\n",
       "      <td>1.26</td>\n",
       "      <td>1.26</td>\n",
       "      <td>1.11</td>\n",
       "      <td>1.18</td>\n",
       "      <td>1.18</td>\n",
       "      <td>701500</td>\n",
       "    </tr>\n",
       "    <tr>\n",
       "      <th>2298</th>\n",
       "      <td>2020-04-01</td>\n",
       "      <td>1.12</td>\n",
       "      <td>1.14</td>\n",
       "      <td>1.02</td>\n",
       "      <td>1.03</td>\n",
       "      <td>1.03</td>\n",
       "      <td>754600</td>\n",
       "    </tr>\n",
       "  </tbody>\n",
       "</table>\n",
       "<p>2299 rows × 7 columns</p>\n",
       "</div>"
      ],
      "text/plain": [
       "            Date  Open  High   Low  Close  Adj Close   Volume\n",
       "0     2011-02-11  5.00  5.09  4.51   4.55       4.55  1899700\n",
       "1     2011-02-14  4.53  4.73  4.35   4.38       4.38    66300\n",
       "2     2011-02-15  4.50  4.50  4.08   4.31       4.31    37400\n",
       "3     2011-02-16  4.37  4.37  4.15   4.24       4.24     9500\n",
       "4     2011-02-17  4.14  4.22  3.85   3.85       3.85    60000\n",
       "...          ...   ...   ...   ...    ...        ...      ...\n",
       "2294  2020-03-26  1.30  1.46  1.21   1.32       1.32  2487700\n",
       "2295  2020-03-27  1.30  1.32  1.12   1.27       1.27  1068400\n",
       "2296  2020-03-30  1.25  1.29  1.23   1.27       1.27   710200\n",
       "2297  2020-03-31  1.26  1.26  1.11   1.18       1.18   701500\n",
       "2298  2020-04-01  1.12  1.14  1.02   1.03       1.03   754600\n",
       "\n",
       "[2299 rows x 7 columns]"
      ]
     },
     "execution_count": 3,
     "metadata": {},
     "output_type": "execute_result"
    }
   ],
   "source": [
    "df = pd.read_csv('ACRX.csv')\n",
    "df"
   ]
  },
  {
   "cell_type": "code",
   "execution_count": 4,
   "id": "29f31000",
   "metadata": {},
   "outputs": [
    {
     "data": {
      "text/html": [
       "<div>\n",
       "<style scoped>\n",
       "    .dataframe tbody tr th:only-of-type {\n",
       "        vertical-align: middle;\n",
       "    }\n",
       "\n",
       "    .dataframe tbody tr th {\n",
       "        vertical-align: top;\n",
       "    }\n",
       "\n",
       "    .dataframe thead th {\n",
       "        text-align: right;\n",
       "    }\n",
       "</style>\n",
       "<table border=\"1\" class=\"dataframe\">\n",
       "  <thead>\n",
       "    <tr style=\"text-align: right;\">\n",
       "      <th></th>\n",
       "      <th>Date</th>\n",
       "      <th>Open</th>\n",
       "    </tr>\n",
       "  </thead>\n",
       "  <tbody>\n",
       "    <tr>\n",
       "      <th>0</th>\n",
       "      <td>2011-02-11</td>\n",
       "      <td>5.00</td>\n",
       "    </tr>\n",
       "    <tr>\n",
       "      <th>1</th>\n",
       "      <td>2011-02-14</td>\n",
       "      <td>4.53</td>\n",
       "    </tr>\n",
       "    <tr>\n",
       "      <th>2</th>\n",
       "      <td>2011-02-15</td>\n",
       "      <td>4.50</td>\n",
       "    </tr>\n",
       "    <tr>\n",
       "      <th>3</th>\n",
       "      <td>2011-02-16</td>\n",
       "      <td>4.37</td>\n",
       "    </tr>\n",
       "    <tr>\n",
       "      <th>4</th>\n",
       "      <td>2011-02-17</td>\n",
       "      <td>4.14</td>\n",
       "    </tr>\n",
       "    <tr>\n",
       "      <th>...</th>\n",
       "      <td>...</td>\n",
       "      <td>...</td>\n",
       "    </tr>\n",
       "    <tr>\n",
       "      <th>2294</th>\n",
       "      <td>2020-03-26</td>\n",
       "      <td>1.30</td>\n",
       "    </tr>\n",
       "    <tr>\n",
       "      <th>2295</th>\n",
       "      <td>2020-03-27</td>\n",
       "      <td>1.30</td>\n",
       "    </tr>\n",
       "    <tr>\n",
       "      <th>2296</th>\n",
       "      <td>2020-03-30</td>\n",
       "      <td>1.25</td>\n",
       "    </tr>\n",
       "    <tr>\n",
       "      <th>2297</th>\n",
       "      <td>2020-03-31</td>\n",
       "      <td>1.26</td>\n",
       "    </tr>\n",
       "    <tr>\n",
       "      <th>2298</th>\n",
       "      <td>2020-04-01</td>\n",
       "      <td>1.12</td>\n",
       "    </tr>\n",
       "  </tbody>\n",
       "</table>\n",
       "<p>2299 rows × 2 columns</p>\n",
       "</div>"
      ],
      "text/plain": [
       "            Date  Open\n",
       "0     2011-02-11  5.00\n",
       "1     2011-02-14  4.53\n",
       "2     2011-02-15  4.50\n",
       "3     2011-02-16  4.37\n",
       "4     2011-02-17  4.14\n",
       "...          ...   ...\n",
       "2294  2020-03-26  1.30\n",
       "2295  2020-03-27  1.30\n",
       "2296  2020-03-30  1.25\n",
       "2297  2020-03-31  1.26\n",
       "2298  2020-04-01  1.12\n",
       "\n",
       "[2299 rows x 2 columns]"
      ]
     },
     "execution_count": 4,
     "metadata": {},
     "output_type": "execute_result"
    }
   ],
   "source": [
    "df = df[['Date', 'Open']]\n",
    "df"
   ]
  },
  {
   "cell_type": "markdown",
   "id": "f57f2962",
   "metadata": {},
   "source": [
    "## Preprocessing Data"
   ]
  },
  {
   "cell_type": "code",
   "execution_count": 5,
   "id": "9f9267f1",
   "metadata": {},
   "outputs": [
    {
     "name": "stderr",
     "output_type": "stream",
     "text": [
      "C:\\Users\\DELL\\AppData\\Local\\Temp\\ipykernel_24908\\1894350371.py:1: SettingWithCopyWarning: \n",
      "A value is trying to be set on a copy of a slice from a DataFrame.\n",
      "Try using .loc[row_indexer,col_indexer] = value instead\n",
      "\n",
      "See the caveats in the documentation: https://pandas.pydata.org/pandas-docs/stable/user_guide/indexing.html#returning-a-view-versus-a-copy\n",
      "  df['Date'] = pd.to_datetime(df['Date'])\n",
      "C:\\Users\\DELL\\AppData\\Local\\Temp\\ipykernel_24908\\1894350371.py:2: SettingWithCopyWarning: \n",
      "A value is trying to be set on a copy of a slice from a DataFrame\n",
      "\n",
      "See the caveats in the documentation: https://pandas.pydata.org/pandas-docs/stable/user_guide/indexing.html#returning-a-view-versus-a-copy\n",
      "  df.sort_values('Date', inplace=True)\n"
     ]
    }
   ],
   "source": [
    "df['Date'] = pd.to_datetime(df['Date'])\n",
    "df.sort_values('Date', inplace=True)"
   ]
  },
  {
   "cell_type": "code",
   "execution_count": 6,
   "id": "a13c26b2",
   "metadata": {},
   "outputs": [],
   "source": [
    "# Chia dữ liệu thành tập train và tập test\n",
    "split_date = '2019-01-01' \n",
    "train_data = df[df['Date'] < split_date]\n",
    "test_data = df[df['Date'] >= split_date]"
   ]
  },
  {
   "cell_type": "code",
   "execution_count": 7,
   "id": "cea6bf40",
   "metadata": {},
   "outputs": [
    {
     "data": {
      "text/plain": [
       "array([[5.        ],\n",
       "       [4.53000021],\n",
       "       [4.5       ],\n",
       "       ...,\n",
       "       [2.18000007],\n",
       "       [2.43000007],\n",
       "       [2.3499999 ]])"
      ]
     },
     "execution_count": 7,
     "metadata": {},
     "output_type": "execute_result"
    }
   ],
   "source": [
    "training_set = train_data.iloc[:, 1].values.reshape(-1, 1)\n",
    "testing_set = test_data.iloc[:, 1].values.reshape(-1, 1)\n",
    "training_set"
   ]
  },
  {
   "cell_type": "code",
   "execution_count": 8,
   "id": "98b8dd04",
   "metadata": {},
   "outputs": [],
   "source": [
    "from sklearn.preprocessing import MinMaxScaler\n",
    "sc = MinMaxScaler(feature_range = (0, 1))\n",
    "training_set_scaled = sc.fit_transform(training_set)\n",
    "testing_set_scaled = sc.transform(testing_set)"
   ]
  },
  {
   "cell_type": "code",
   "execution_count": 25,
   "id": "10d4ea38",
   "metadata": {},
   "outputs": [
    {
     "name": "stdout",
     "output_type": "stream",
     "text": [
      "(1977, 7)\n",
      "(1977,)\n"
     ]
    }
   ],
   "source": [
    "X_train = []\n",
    "y_train = []\n",
    "X_test = []\n",
    "y_test = []\n",
    "lookback = 7\n",
    "\n",
    "for i in range(lookback, len(training_set)):\n",
    "    X_train.append(training_set_scaled[i-lookback:i, 0])\n",
    "    y_train.append(training_set_scaled[i, 0])\n",
    "    \n",
    "for i in range(lookback, len(testing_set)):\n",
    "    X_test.append(testing_set_scaled[i-lookback:i, 0])\n",
    "    y_test.append(testing_set_scaled[i, 0])\n",
    "    \n",
    "X_test, y_test = np.array(X_test), np.array(y_test)\n",
    "X_train, y_train = np.array(X_train), np.array(y_train)\n",
    "\n",
    "print(X_train.shape)\n",
    "print(y_train.shape)"
   ]
  },
  {
   "cell_type": "code",
   "execution_count": 26,
   "id": "8c3451ff",
   "metadata": {},
   "outputs": [
    {
     "data": {
      "text/plain": [
       "(torch.Size([1977, 7, 1]),\n",
       " torch.Size([1977, 1]),\n",
       " torch.Size([308, 7, 1]),\n",
       " torch.Size([308, 1]))"
      ]
     },
     "execution_count": 26,
     "metadata": {},
     "output_type": "execute_result"
    }
   ],
   "source": [
    "X_train = np.reshape(X_train, (X_train.shape[0], X_train.shape[1], 1))\n",
    "y_train = np.reshape(y_train, (y_train.shape[0], 1))\n",
    "\n",
    "X_test = np.reshape(X_test, (X_test.shape[0], X_test.shape[1], 1))\n",
    "y_test = np.reshape(y_test, (y_test.shape[0], 1))\n",
    "\n",
    "# Conver to tensor\n",
    "X_test = torch.tensor(X_test).float()\n",
    "y_test = torch.tensor(y_test).float()\n",
    "\n",
    "X_train = torch.tensor(X_train).float()\n",
    "y_train = torch.tensor(y_train).float()\n",
    "\n",
    "X_train.shape, y_train.shape, X_test.shape, y_test.shape"
   ]
  },
  {
   "cell_type": "code",
   "execution_count": 27,
   "id": "b04b285d",
   "metadata": {},
   "outputs": [],
   "source": [
    "from torch.utils.data import Dataset\n",
    "\n",
    "class TimeSeriesDataset(Dataset):\n",
    "    def __init__(self, X, y):\n",
    "        self.X = X\n",
    "        self.y = y\n",
    "    def __len__(self):\n",
    "        return len(self.X)\n",
    "    def __getitem__(self, i):\n",
    "        return self.X[i], self.y[i]\n",
    "\n",
    "train_dataset = TimeSeriesDataset(X_train, y_train)\n",
    "test_dataset = TimeSeriesDataset(X_test, y_test)"
   ]
  },
  {
   "cell_type": "code",
   "execution_count": 28,
   "id": "855602dc",
   "metadata": {},
   "outputs": [],
   "source": [
    "from torch.utils.data import DataLoader\n",
    "batch_size = 16\n",
    "\n",
    "train_loader = DataLoader(train_dataset, batch_size=batch_size, shuffle=True)\n",
    "test_loader = DataLoader(test_dataset, batch_size=batch_size, shuffle=False)"
   ]
  },
  {
   "cell_type": "code",
   "execution_count": 29,
   "id": "ea5a322f",
   "metadata": {},
   "outputs": [
    {
     "data": {
      "text/plain": [
       "BiLSTM(\n",
       "  (lstm): LSTM(1, 4, num_layers=2, batch_first=True, bidirectional=True)\n",
       "  (fc): Linear(in_features=8, out_features=1, bias=True)\n",
       ")"
      ]
     },
     "execution_count": 29,
     "metadata": {},
     "output_type": "execute_result"
    }
   ],
   "source": [
    "class BiLSTM(nn.Module):\n",
    "    def __init__(self, input_size, hidden_size, num_layers):\n",
    "        super(BiLSTM, self).__init__()\n",
    "        self.hidden_size = hidden_size\n",
    "        self.num_layers = num_layers\n",
    "        self.lstm = nn.LSTM(input_size, hidden_size, num_layers, batch_first=True, bidirectional=True)\n",
    "        self.fc = nn.Linear(hidden_size * 2, 1)\n",
    "\n",
    "    def forward(self, x):\n",
    "        h0 = torch.zeros(self.num_layers * 2, x.size(0), self.hidden_size).to(device)\n",
    "        c0 = torch.zeros(self.num_layers * 2, x.size(0), self.hidden_size).to(device)\n",
    "\n",
    "        out, _ = self.lstm(x, (h0, c0))\n",
    "        out = self.fc(out[:, -1, :])\n",
    "\n",
    "        return out\n",
    "\n",
    "model = BiLSTM(1, 4, 2)\n",
    "model.to(device)\n",
    "model"
   ]
  },
  {
   "cell_type": "code",
   "execution_count": 30,
   "id": "5320a4e4",
   "metadata": {},
   "outputs": [],
   "source": [
    "learning_rate = 0.001\n",
    "num_epochs = 5\n",
    "loss_function = nn.MSELoss()\n",
    "optimizer = torch.optim.Adam(model.parameters(), lr=learning_rate)\n",
    "losses = []"
   ]
  },
  {
   "cell_type": "code",
   "execution_count": 31,
   "id": "69e7f062",
   "metadata": {},
   "outputs": [
    {
     "name": "stdout",
     "output_type": "stream",
     "text": [
      "Epoch: 1 Batch: 0 Loss: 0.428\n",
      "Epoch: 1 Batch: 10 Loss: 0.334\n",
      "Epoch: 1 Batch: 20 Loss: 0.377\n",
      "Epoch: 1 Batch: 30 Loss: 0.197\n",
      "Epoch: 1 Batch: 40 Loss: 0.338\n",
      "Epoch: 1 Batch: 50 Loss: 0.243\n",
      "Epoch: 1 Batch: 60 Loss: 0.203\n",
      "Epoch: 1 Batch: 70 Loss: 0.213\n",
      "Epoch: 1 Batch: 80 Loss: 0.187\n",
      "Epoch: 1 Batch: 90 Loss: 0.241\n",
      "Epoch: 1 Batch: 100 Loss: 0.036\n",
      "Epoch: 1 Batch: 110 Loss: 0.043\n",
      "Epoch: 1 Batch: 120 Loss: 0.173\n",
      "Epoch: 2 Batch: 0 Loss: 0.118\n",
      "Epoch: 2 Batch: 10 Loss: 0.041\n",
      "Epoch: 2 Batch: 20 Loss: 0.060\n",
      "Epoch: 2 Batch: 30 Loss: 0.131\n",
      "Epoch: 2 Batch: 40 Loss: 0.039\n",
      "Epoch: 2 Batch: 50 Loss: 0.035\n",
      "Epoch: 2 Batch: 60 Loss: 0.086\n",
      "Epoch: 2 Batch: 70 Loss: 0.060\n",
      "Epoch: 2 Batch: 80 Loss: 0.075\n",
      "Epoch: 2 Batch: 90 Loss: 0.034\n",
      "Epoch: 2 Batch: 100 Loss: 0.060\n",
      "Epoch: 2 Batch: 110 Loss: 0.042\n",
      "Epoch: 2 Batch: 120 Loss: 0.053\n",
      "Epoch: 3 Batch: 0 Loss: 0.055\n",
      "Epoch: 3 Batch: 10 Loss: 0.040\n",
      "Epoch: 3 Batch: 20 Loss: 0.036\n",
      "Epoch: 3 Batch: 30 Loss: 0.025\n",
      "Epoch: 3 Batch: 40 Loss: 0.030\n",
      "Epoch: 3 Batch: 50 Loss: 0.016\n",
      "Epoch: 3 Batch: 60 Loss: 0.031\n",
      "Epoch: 3 Batch: 70 Loss: 0.042\n",
      "Epoch: 3 Batch: 80 Loss: 0.020\n",
      "Epoch: 3 Batch: 90 Loss: 0.009\n",
      "Epoch: 3 Batch: 100 Loss: 0.006\n",
      "Epoch: 3 Batch: 110 Loss: 0.011\n",
      "Epoch: 3 Batch: 120 Loss: 0.016\n",
      "Epoch: 4 Batch: 0 Loss: 0.006\n",
      "Epoch: 4 Batch: 10 Loss: 0.004\n",
      "Epoch: 4 Batch: 20 Loss: 0.001\n",
      "Epoch: 4 Batch: 30 Loss: 0.005\n",
      "Epoch: 4 Batch: 40 Loss: 0.001\n",
      "Epoch: 4 Batch: 50 Loss: 0.001\n",
      "Epoch: 4 Batch: 60 Loss: 0.003\n",
      "Epoch: 4 Batch: 70 Loss: 0.002\n",
      "Epoch: 4 Batch: 80 Loss: 0.001\n",
      "Epoch: 4 Batch: 90 Loss: 0.001\n",
      "Epoch: 4 Batch: 100 Loss: 0.002\n",
      "Epoch: 4 Batch: 110 Loss: 0.001\n",
      "Epoch: 4 Batch: 120 Loss: 0.003\n",
      "Epoch: 5 Batch: 0 Loss: 0.002\n",
      "Epoch: 5 Batch: 10 Loss: 0.005\n",
      "Epoch: 5 Batch: 20 Loss: 0.001\n",
      "Epoch: 5 Batch: 30 Loss: 0.001\n",
      "Epoch: 5 Batch: 40 Loss: 0.002\n",
      "Epoch: 5 Batch: 50 Loss: 0.003\n",
      "Epoch: 5 Batch: 60 Loss: 0.001\n",
      "Epoch: 5 Batch: 70 Loss: 0.001\n",
      "Epoch: 5 Batch: 80 Loss: 0.001\n",
      "Epoch: 5 Batch: 90 Loss: 0.004\n",
      "Epoch: 5 Batch: 100 Loss: 0.002\n",
      "Epoch: 5 Batch: 110 Loss: 0.005\n",
      "Epoch: 5 Batch: 120 Loss: 0.001\n"
     ]
    }
   ],
   "source": [
    "for epoch in range(num_epochs):\n",
    "        model.train(True)\n",
    "        for batch_index, batch in enumerate(train_loader):\n",
    "            x_batch, y_batch = batch[0].to(device), batch[1].to(device)\n",
    "            output = model(x_batch)\n",
    "            loss = loss_function(output, y_batch)\n",
    "            optimizer.zero_grad()\n",
    "            loss.backward()\n",
    "            optimizer.step()\n",
    "\n",
    "            if batch_index % 10 == 0:\n",
    "                print(f'Epoch: {epoch + 1} Batch: {batch_index} Loss: {loss.item():.3f}')"
   ]
  },
  {
   "cell_type": "code",
   "execution_count": 32,
   "id": "53db9a19",
   "metadata": {
    "scrolled": true
   },
   "outputs": [
    {
     "name": "stdout",
     "output_type": "stream",
     "text": [
      "Batch index: 0 | Test loss: 0.000\n",
      "Batch index: 1 | Test loss: 0.000\n",
      "Batch index: 2 | Test loss: 0.001\n",
      "Batch index: 3 | Test loss: 0.000\n",
      "Batch index: 4 | Test loss: 0.000\n",
      "Batch index: 5 | Test loss: 0.000\n",
      "Batch index: 6 | Test loss: 0.001\n",
      "Batch index: 7 | Test loss: 0.000\n",
      "Batch index: 8 | Test loss: 0.000\n",
      "Batch index: 9 | Test loss: 0.001\n",
      "Batch index: 10 | Test loss: 0.000\n",
      "Batch index: 11 | Test loss: 0.001\n",
      "Batch index: 12 | Test loss: 0.001\n",
      "Batch index: 13 | Test loss: 0.002\n",
      "Batch index: 14 | Test loss: 0.001\n",
      "Batch index: 15 | Test loss: 0.001\n",
      "Batch index: 16 | Test loss: 0.002\n",
      "Batch index: 17 | Test loss: 0.003\n",
      "Batch index: 18 | Test loss: 0.005\n",
      "Batch index: 19 | Test loss: 0.003\n"
     ]
    }
   ],
   "source": [
    "model.eval()\n",
    "predict_stock_price = []\n",
    "for batch_index, batch in enumerate(test_loader):\n",
    "    X_batch, y_batch = batch[0].to(device), batch[1].to(device)\n",
    "    with torch.no_grad():\n",
    "        predict = model(X_batch)\n",
    "        predict_stock_price.append(predict)\n",
    "        loss = loss_function(predict, y_batch)\n",
    "        print(f\"Batch index: {batch_index} | Test loss: {loss.item():.3f}\")        \n",
    "# predict_stock_price"
   ]
  },
  {
   "cell_type": "code",
   "execution_count": 33,
   "id": "0270621e",
   "metadata": {},
   "outputs": [
    {
     "data": {
      "image/png": "[encoded data removed]",
      "text/plain": [
       "<Figure size 1000x500 with 1 Axes>"
      ]
     },
     "metadata": {},
     "output_type": "display_data"
    }
   ],
   "source": [
    "model.eval()\n",
    "predict_stock_price = []\n",
    "\n",
    "for batch_index, batch in enumerate(test_loader):\n",
    "    X_batch, y_batch = batch[0].to(device), batch[1].to(device)\n",
    "    with torch.no_grad():\n",
    "        predict = model(X_batch)\n",
    "        predict_stock_price.append(predict.cpu().numpy())\n",
    "\n",
    "# Flatten the list of arrays into a single numpy array\n",
    "predict_stock_price = np.concatenate(predict_stock_price)\n",
    "\n",
    "# Reshape the real_stock_price to match the shape of predict_stock_price\n",
    "real_stock_price = testing_set_scaled[lookback:]\n",
    "\n",
    "# Tạo mảng chỉ số thời gian tương ứng với các dự đoán và giá thực tế\n",
    "time_index = np.arange(len(predict_stock_price))\n",
    "\n",
    "# Vẽ biểu đồ\n",
    "plt.figure(figsize=(10, 5))\n",
    "plt.plot(time_index, predict_stock_price, label='Predicted Stock Price', color='blue')\n",
    "plt.plot(time_index, real_stock_price, label='Real Stock Price', color='red')\n",
    "plt.xlabel('Time')\n",
    "plt.ylabel('Stock Price')\n",
    "plt.title('Predicted vs Real Stock Price')\n",
    "plt.legend()\n",
    "plt.grid(True)\n",
    "plt.show()\n"
   ]
  },
  {
   "cell_type": "code",
   "execution_count": null,
   "id": "28091265",
   "metadata": {},
   "outputs": [],
   "source": []
  },
  {
   "cell_type": "code",
   "execution_count": null,
   "id": "bca39e7f",
   "metadata": {},
   "outputs": [],
   "source": []
  }
 ],
 "metadata": {
  "kernelspec": {
   "display_name": "Python 3 (ipykernel)",
   "language": "python",
   "name": "python3"
  },
  "language_info": {
   "codemirror_mode": {
    "name": "ipython",
    "version": 3
   },
   "file_extension": ".py",
   "mimetype": "text/x-python",
   "name": "python",
   "nbconvert_exporter": "python",
   "pygments_lexer": "ipython3",
   "version": "3.11.4"
  }
 },
 "nbformat": 4,
 "nbformat_minor": 5
}
