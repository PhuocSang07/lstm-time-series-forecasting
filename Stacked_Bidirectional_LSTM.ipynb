{
 "cells": [
  {
   "cell_type": "code",
   "execution_count": 1,
   "metadata": {},
   "outputs": [],
   "source": [
    "import torch\n",
    "import torch.nn as nn\n",
    "from torch.utils.data import Dataset\n",
    "\n",
    "\n",
    "import numpy as np\n",
    "import pandas as pd\n",
    "import matplotlib.pyplot as plt\n",
    "\n",
    "\n",
    "from sklearn.preprocessing import StandardScaler\n",
    "from sklearn.model_selection import train_test_split\n",
    "\n",
    "from warnings import filterwarnings"
   ]
  },
  {
   "cell_type": "code",
   "execution_count": 2,
   "metadata": {},
   "outputs": [
    {
     "name": "stdout",
     "output_type": "stream",
     "text": [
      "cuda\n"
     ]
    }
   ],
   "source": [
    "device = torch.device('cuda' if torch.cuda.is_available() else 'cpu')\n",
    "print(device)"
   ]
  },
  {
   "cell_type": "code",
   "execution_count": 5,
   "metadata": {},
   "outputs": [
    {
     "data": {
      "text/html": [
       "<div>\n",
       "<style scoped>\n",
       "    .dataframe tbody tr th:only-of-type {\n",
       "        vertical-align: middle;\n",
       "    }\n",
       "\n",
       "    .dataframe tbody tr th {\n",
       "        vertical-align: top;\n",
       "    }\n",
       "\n",
       "    .dataframe thead th {\n",
       "        text-align: right;\n",
       "    }\n",
       "</style>\n",
       "<table border=\"1\" class=\"dataframe\">\n",
       "  <thead>\n",
       "    <tr style=\"text-align: right;\">\n",
       "      <th></th>\n",
       "      <th>Date</th>\n",
       "      <th>Open</th>\n",
       "      <th>High</th>\n",
       "      <th>Low</th>\n",
       "      <th>Close</th>\n",
       "      <th>Adj Close</th>\n",
       "      <th>Volume</th>\n",
       "    </tr>\n",
       "  </thead>\n",
       "  <tbody>\n",
       "    <tr>\n",
       "      <th>0</th>\n",
       "      <td>1962-01-02</td>\n",
       "      <td>6.532155</td>\n",
       "      <td>6.556185</td>\n",
       "      <td>6.532155</td>\n",
       "      <td>6.532155</td>\n",
       "      <td>1.536658</td>\n",
       "      <td>55900</td>\n",
       "    </tr>\n",
       "    <tr>\n",
       "      <th>1</th>\n",
       "      <td>1962-01-03</td>\n",
       "      <td>6.532155</td>\n",
       "      <td>6.632280</td>\n",
       "      <td>6.524145</td>\n",
       "      <td>6.632280</td>\n",
       "      <td>1.560212</td>\n",
       "      <td>74500</td>\n",
       "    </tr>\n",
       "    <tr>\n",
       "      <th>2</th>\n",
       "      <td>1962-01-04</td>\n",
       "      <td>6.632280</td>\n",
       "      <td>6.664320</td>\n",
       "      <td>6.632280</td>\n",
       "      <td>6.632280</td>\n",
       "      <td>1.560212</td>\n",
       "      <td>80500</td>\n",
       "    </tr>\n",
       "    <tr>\n",
       "      <th>3</th>\n",
       "      <td>1962-01-05</td>\n",
       "      <td>6.632280</td>\n",
       "      <td>6.656310</td>\n",
       "      <td>6.616260</td>\n",
       "      <td>6.624270</td>\n",
       "      <td>1.558326</td>\n",
       "      <td>70500</td>\n",
       "    </tr>\n",
       "    <tr>\n",
       "      <th>4</th>\n",
       "      <td>1962-01-08</td>\n",
       "      <td>6.608250</td>\n",
       "      <td>6.608250</td>\n",
       "      <td>6.339915</td>\n",
       "      <td>6.408000</td>\n",
       "      <td>1.507450</td>\n",
       "      <td>93800</td>\n",
       "    </tr>\n",
       "  </tbody>\n",
       "</table>\n",
       "</div>"
      ],
      "text/plain": [
       "         Date      Open      High       Low     Close  Adj Close  Volume\n",
       "0  1962-01-02  6.532155  6.556185  6.532155  6.532155   1.536658   55900\n",
       "1  1962-01-03  6.532155  6.632280  6.524145  6.632280   1.560212   74500\n",
       "2  1962-01-04  6.632280  6.664320  6.632280  6.632280   1.560212   80500\n",
       "3  1962-01-05  6.632280  6.656310  6.616260  6.624270   1.558326   70500\n",
       "4  1962-01-08  6.608250  6.608250  6.339915  6.408000   1.507450   93800"
      ]
     },
     "execution_count": 5,
     "metadata": {},
     "output_type": "execute_result"
    }
   ],
   "source": [
    "df = pd.read_csv('AA.csv')\n",
    "df.head()"
   ]
  },
  {
   "cell_type": "code",
   "execution_count": 6,
   "metadata": {},
   "outputs": [
    {
     "data": {
      "text/html": [
       "<div>\n",
       "<style scoped>\n",
       "    .dataframe tbody tr th:only-of-type {\n",
       "        vertical-align: middle;\n",
       "    }\n",
       "\n",
       "    .dataframe tbody tr th {\n",
       "        vertical-align: top;\n",
       "    }\n",
       "\n",
       "    .dataframe thead th {\n",
       "        text-align: right;\n",
       "    }\n",
       "</style>\n",
       "<table border=\"1\" class=\"dataframe\">\n",
       "  <thead>\n",
       "    <tr style=\"text-align: right;\">\n",
       "      <th></th>\n",
       "      <th>Date</th>\n",
       "      <th>Open</th>\n",
       "    </tr>\n",
       "  </thead>\n",
       "  <tbody>\n",
       "    <tr>\n",
       "      <th>0</th>\n",
       "      <td>1962-01-02</td>\n",
       "      <td>6.532155</td>\n",
       "    </tr>\n",
       "    <tr>\n",
       "      <th>1</th>\n",
       "      <td>1962-01-03</td>\n",
       "      <td>6.532155</td>\n",
       "    </tr>\n",
       "    <tr>\n",
       "      <th>2</th>\n",
       "      <td>1962-01-04</td>\n",
       "      <td>6.632280</td>\n",
       "    </tr>\n",
       "    <tr>\n",
       "      <th>3</th>\n",
       "      <td>1962-01-05</td>\n",
       "      <td>6.632280</td>\n",
       "    </tr>\n",
       "    <tr>\n",
       "      <th>4</th>\n",
       "      <td>1962-01-08</td>\n",
       "      <td>6.608250</td>\n",
       "    </tr>\n",
       "  </tbody>\n",
       "</table>\n",
       "</div>"
      ],
      "text/plain": [
       "         Date      Open\n",
       "0  1962-01-02  6.532155\n",
       "1  1962-01-03  6.532155\n",
       "2  1962-01-04  6.632280\n",
       "3  1962-01-05  6.632280\n",
       "4  1962-01-08  6.608250"
      ]
     },
     "execution_count": 6,
     "metadata": {},
     "output_type": "execute_result"
    }
   ],
   "source": [
    "df = df[['Date', 'Open']] # predict the opening price\n",
    "df.head()"
   ]
  },
  {
   "cell_type": "code",
   "execution_count": 7,
   "metadata": {},
   "outputs": [
    {
     "data": {
      "image/png": "[encoded data removed]",
      "text/plain": [
       "<Figure size 640x480 with 1 Axes>"
      ]
     },
     "metadata": {},
     "output_type": "display_data"
    }
   ],
   "source": [
    "plt.xlabel('Date')\n",
    "plt.ylabel('Open Price')\n",
    "plt.title('Opening Price of AA')\n",
    "plt.plot(df['Date'], df['Open'])\n",
    "plt.show()"
   ]
  },
  {
   "cell_type": "markdown",
   "metadata": {},
   "source": [
    "# Data Preprocessing"
   ]
  },
  {
   "cell_type": "code",
   "execution_count": 136,
   "metadata": {},
   "outputs": [
    {
     "data": {
      "text/html": [
       "<div>\n",
       "<style scoped>\n",
       "    .dataframe tbody tr th:only-of-type {\n",
       "        vertical-align: middle;\n",
       "    }\n",
       "\n",
       "    .dataframe tbody tr th {\n",
       "        vertical-align: top;\n",
       "    }\n",
       "\n",
       "    .dataframe thead th {\n",
       "        text-align: right;\n",
       "    }\n",
       "</style>\n",
       "<table border=\"1\" class=\"dataframe\">\n",
       "  <thead>\n",
       "    <tr style=\"text-align: right;\">\n",
       "      <th></th>\n",
       "      <th>Date</th>\n",
       "      <th>Open</th>\n",
       "    </tr>\n",
       "  </thead>\n",
       "  <tbody>\n",
       "    <tr>\n",
       "      <th>0</th>\n",
       "      <td>1962-01-02</td>\n",
       "      <td>6.532155</td>\n",
       "    </tr>\n",
       "    <tr>\n",
       "      <th>1</th>\n",
       "      <td>1962-01-03</td>\n",
       "      <td>6.532155</td>\n",
       "    </tr>\n",
       "    <tr>\n",
       "      <th>2</th>\n",
       "      <td>1962-01-04</td>\n",
       "      <td>6.632280</td>\n",
       "    </tr>\n",
       "    <tr>\n",
       "      <th>3</th>\n",
       "      <td>1962-01-05</td>\n",
       "      <td>6.632280</td>\n",
       "    </tr>\n",
       "    <tr>\n",
       "      <th>4</th>\n",
       "      <td>1962-01-08</td>\n",
       "      <td>6.608250</td>\n",
       "    </tr>\n",
       "  </tbody>\n",
       "</table>\n",
       "</div>"
      ],
      "text/plain": [
       "        Date      Open\n",
       "0 1962-01-02  6.532155\n",
       "1 1962-01-03  6.532155\n",
       "2 1962-01-04  6.632280\n",
       "3 1962-01-05  6.632280\n",
       "4 1962-01-08  6.608250"
      ]
     },
     "execution_count": 136,
     "metadata": {},
     "output_type": "execute_result"
    }
   ],
   "source": [
    "from sklearn.preprocessing import MinMaxScaler\n",
    "\n",
    "# Convert the 'Date' column to datetime\n",
    "df['Date'] = pd.to_datetime(df['Date'])\n",
    "\n",
    "# Sort by date\n",
    "df.sort_values(by='Date', inplace=True)\n",
    "\n",
    "df.head()"
   ]
  },
  {
   "cell_type": "markdown",
   "metadata": {},
   "source": [
    "Organizing the data into input-output pairs for a sequence prediction task\n",
    "\n",
    "Ví dụ ta có time-series dataset như sau:\n",
    "| Date       | Open     |\n",
    "|------------|----------|\n",
    "| 1962-01-02 | 6.532155 |\n",
    "| 1962-01-03 | 6.532155 |\n",
    "| 1962-01-04 | 6.632280 |\n",
    "| 1962-01-05 | 6.632280 |\n",
    "| 1962-01-08 | 6.608250 |\n",
    "\n",
    "Ta muốn dự đoán giá chứng khoán cho ngày kế tiếp dựa trên n = 3 ngày trước đó.\n",
    "\n",
    "Lúc này ta sẽ tổ chức các cặp input-output như sau:\n",
    "- Mỗi input sequence sẽ chứa giá chứng khoán của n ngày liên tiếp.\n",
    "    - Ví dụ [6.532155, 6.532155, 6.632280] là giá chứng khoán của 3 ngày liên tiếp 1962-01-02, 1962-01-03, 1962-01-04\n",
    "- Output: giá chứng khoán của ngày kế tiếp sau cái ngày cuối cùng trong dãy input sequence trên\n",
    "    - Ví dụ [6.532155, 6.532155, 6.632280] thì output sẽ là 6.632280 (1962-01-05)"
   ]
  },
  {
   "cell_type": "code",
   "execution_count": 137,
   "metadata": {},
   "outputs": [
    {
     "data": {
      "text/plain": [
       "array([6.53215504, 6.53215504, 6.63227987, ..., 6.55000019, 6.15999985,\n",
       "       5.96000004])"
      ]
     },
     "execution_count": 137,
     "metadata": {},
     "output_type": "execute_result"
    }
   ],
   "source": [
    "df['Open'].values"
   ]
  },
  {
   "cell_type": "code",
   "execution_count": 138,
   "metadata": {},
   "outputs": [],
   "source": [
    "num_past_days = 30  # Number of past observations\n",
    "\n",
    "def create_input_and_output_sequences(data, sequence_len):\n",
    "    input_sequences = []\n",
    "    output_sequences = []\n",
    "    for i in range(len(data) - sequence_len):\n",
    "        input_seq = data[i:i+sequence_len]\n",
    "        output_seq = data[i+sequence_len]\n",
    "        input_sequences.append(input_seq)\n",
    "        output_sequences.append(output_seq)\n",
    "    return (input_sequences, output_sequences)\n",
    "\n",
    "(input_sequences, output_sequences) = create_input_and_output_sequences(df['Open'].values, num_past_days)\n",
    "\n",
    "# Convert sequences to PyTorch tensors\n",
    "input_sequences = torch.tensor(input_sequences).float()\n",
    "output_sequences = torch.tensor(output_sequences).float()"
   ]
  },
  {
   "cell_type": "code",
   "execution_count": 139,
   "metadata": {},
   "outputs": [
    {
     "name": "stdout",
     "output_type": "stream",
     "text": [
      "input_sequences shape: torch.Size([14633, 30])\n",
      "output_sequences shape: torch.Size([14633])\n"
     ]
    }
   ],
   "source": [
    "print(\"input_sequences shape:\", input_sequences.shape)\n",
    "print(\"output_sequences shape:\", output_sequences.shape)"
   ]
  },
  {
   "cell_type": "markdown",
   "metadata": {},
   "source": [
    "Trong bài toán này, ta chỉ tập trung vào 1 feature là open price"
   ]
  },
  {
   "cell_type": "code",
   "execution_count": 140,
   "metadata": {},
   "outputs": [],
   "source": [
    "X = np.reshape(a=input_sequences, newshape=(input_sequences.shape[0], input_sequences.shape[1], 1))\n",
    "y = np.reshape(a=output_sequences, newshape=(output_sequences.shape[0], 1))"
   ]
  },
  {
   "cell_type": "code",
   "execution_count": 141,
   "metadata": {},
   "outputs": [
    {
     "name": "stdout",
     "output_type": "stream",
     "text": [
      "X shape: torch.Size([14633, 30, 1])\n",
      "y shape: torch.Size([14633, 1])\n"
     ]
    }
   ],
   "source": [
    "print(\"X shape:\", X.shape) # (number of samples or sequences, length of each sequence (number of time steps), number of features at each time step within the sequence)\n",
    "print(\"y shape:\", y.shape) # (number of samples or sequences, 1)"
   ]
  },
  {
   "cell_type": "code",
   "execution_count": 142,
   "metadata": {},
   "outputs": [],
   "source": [
    "from sklearn.model_selection import train_test_split\n",
    "\n",
    "X_train, X_test, y_train, y_test = train_test_split(X, y, test_size=0.2, random_state=42)"
   ]
  },
  {
   "cell_type": "code",
   "execution_count": 143,
   "metadata": {},
   "outputs": [],
   "source": [
    "from torch.utils.data import DataLoader, TensorDataset\n",
    "\n",
    "train_dataset = TensorDataset(X_train, y_train)\n",
    "test_dataset = TensorDataset(X_test, y_test)\n",
    "\n",
    "batch_size = 64 # Số lượng sample mỗi batch\n",
    "train_loader = DataLoader(train_dataset, batch_size=batch_size, shuffle=True)\n",
    "test_loader = DataLoader(test_dataset, batch_size=batch_size)"
   ]
  },
  {
   "cell_type": "markdown",
   "metadata": {},
   "source": [
    "# Stacked LSTM"
   ]
  },
  {
   "cell_type": "code",
   "execution_count": 144,
   "metadata": {},
   "outputs": [],
   "source": [
    "class StackedLSTM(nn.Module):\n",
    "    def __init__(self, input_size, hidden_size, num_layers, output_size):\n",
    "        super(StackedLSTM, self).__init__()\n",
    "        self.hidden_size = hidden_size\n",
    "        self.num_layers = num_layers\n",
    "\n",
    "        self.lstm1 = nn.LSTM(input_size, hidden_size, num_layers, batch_first=True)\n",
    "        self.lstm2 = nn.LSTM(hidden_size, hidden_size, num_layers, batch_first=True)\n",
    "\n",
    "        self.fc = nn.Linear(hidden_size, output_size)\n",
    "\n",
    "    def forward(self, x):\n",
    "        h0 = torch.zeros(self.num_layers, x.size(0), self.hidden_size).to(x.device) # initial hidden state\n",
    "        c0 = torch.zeros(self.num_layers, x.size(0), self.hidden_size).to(x.device) # initial cell state\n",
    "\n",
    "        out, _ = self.lstm1(x, (h0, c0))\n",
    "        out, _ = self.lstm2(out, (h0, c0))\n",
    "\n",
    "        out = self.fc(out[:, -1, :]) # get last hidden state and pass it through the fully connected layer\n",
    "        return out"
   ]
  },
  {
   "cell_type": "code",
   "execution_count": 145,
   "metadata": {},
   "outputs": [
    {
     "name": "stdout",
     "output_type": "stream",
     "text": [
      "StackedLSTM(\n",
      "  (lstm1): LSTM(1, 64, num_layers=2, batch_first=True)\n",
      "  (lstm2): LSTM(64, 64, num_layers=2, batch_first=True)\n",
      "  (fc): Linear(in_features=64, out_features=1, bias=True)\n",
      ")\n"
     ]
    }
   ],
   "source": [
    "input_size = X_train.shape[2] # the number of features in the input data at each time step\n",
    "hidden_size = 64 # the number of neurons in each LSTM layer\n",
    "num_layers = 2 # Số lượng LSTM layer\n",
    "output_size = 1 # Regression\n",
    "\n",
    "model = StackedLSTM(input_size, hidden_size, num_layers, output_size).to(device)\n",
    "criterion = nn.MSELoss()\n",
    "optimizer = torch.optim.Adam(model.parameters(), lr=0.001)\n",
    "\n",
    "print(model)"
   ]
  },
  {
   "cell_type": "code",
   "execution_count": 146,
   "metadata": {},
   "outputs": [
    {
     "name": "stdout",
     "output_type": "stream",
     "text": [
      "Epoch [1/20], Loss: 931.0219\n",
      "Epoch [2/20], Loss: 405.2767\n",
      "Epoch [3/20], Loss: 492.2393\n",
      "Epoch [4/20], Loss: 584.6591\n",
      "Epoch [5/20], Loss: 565.5190\n",
      "Epoch [6/20], Loss: 641.0477\n",
      "Epoch [7/20], Loss: 470.1325\n",
      "Epoch [8/20], Loss: 139.0381\n",
      "Epoch [9/20], Loss: 148.0585\n",
      "Epoch [10/20], Loss: 69.5413\n",
      "Epoch [11/20], Loss: 83.2458\n",
      "Epoch [12/20], Loss: 13.4692\n",
      "Epoch [13/20], Loss: 36.3479\n",
      "Epoch [14/20], Loss: 6.0402\n",
      "Epoch [15/20], Loss: 5.5992\n",
      "Epoch [16/20], Loss: 4.9169\n",
      "Epoch [17/20], Loss: 2.1442\n",
      "Epoch [18/20], Loss: 6.5265\n",
      "Epoch [19/20], Loss: 2.0014\n",
      "Epoch [20/20], Loss: 9.6796\n"
     ]
    }
   ],
   "source": [
    "num_epochs = 20\n",
    "stacked_lstm_train_losses = []\n",
    "for epoch in range(num_epochs):\n",
    "    epoch_loss = 0.0\n",
    "    for batch_index, batch in enumerate(train_loader):\n",
    "        batch_X, batch_y = batch[0].to(device), batch[1].to(device)\n",
    "        \n",
    "        optimizer.zero_grad()\n",
    "        outputs = model(batch_X)\n",
    "        loss = criterion(outputs, batch_y)\n",
    "        loss.backward()\n",
    "        optimizer.step()\n",
    "        epoch_loss += loss.item() * batch_size  # Multiply by batch size to get total loss in the epoch\n",
    "    epoch_loss /= len(train_loader.dataset)  # Calculate average loss per sample\n",
    "    stacked_lstm_train_losses.append(epoch_loss)\n",
    "    \n",
    "    print(f'Epoch [{epoch+1}/{num_epochs}], Loss: {loss.item():.4f}')"
   ]
  },
  {
   "cell_type": "code",
   "execution_count": 147,
   "metadata": {},
   "outputs": [
    {
     "name": "stdout",
     "output_type": "stream",
     "text": [
      "Average test loss: 3.5124\n"
     ]
    }
   ],
   "source": [
    "model.eval()\n",
    "with torch.no_grad():\n",
    "    total_loss = 0.0\n",
    "    num_samples = 0\n",
    "    for batch_X, batch_y in test_loader:\n",
    "        batch_X, batch_y = batch_X.to(device), batch_y.to(device)\n",
    "        outputs = model(batch_X)\n",
    "        loss = criterion(outputs, batch_y)\n",
    "        total_loss += loss.item() * batch_X.size(0)  # Accumulate the total loss\n",
    "        num_samples += batch_X.size(0)\n",
    "\n",
    "    # Calculate average test loss\n",
    "    avg_loss = total_loss / num_samples\n",
    "    print(f'Average test loss: {avg_loss:.4f}')"
   ]
  },
  {
   "cell_type": "markdown",
   "metadata": {},
   "source": [
    "# Bidirectional LSTM\n",
    "\n",
    "It processes the input sequence in both forward and backward directions"
   ]
  },
  {
   "cell_type": "code",
   "execution_count": 148,
   "metadata": {},
   "outputs": [],
   "source": [
    "class BidirectionalLSTM(nn.Module):\n",
    "    def __init__(self, input_size, hidden_size, num_layers, output_size):\n",
    "        super(BidirectionalLSTM, self).__init__()\n",
    "        self.hidden_size = hidden_size\n",
    "        self.num_layers = num_layers\n",
    "\n",
    "        self.lstm = nn.LSTM(input_size, hidden_size, num_layers, batch_first=True, bidirectional=True)\n",
    "        self.fc = nn.Linear(hidden_size * 2, output_size)\n",
    "\n",
    "    def forward(self, x):\n",
    "        h0 = torch.zeros(self.num_layers * 2, x.size(0), self.hidden_size).to(x.device) # initial hidden state\n",
    "        c0 = torch.zeros(self.num_layers * 2, x.size(0), self.hidden_size).to(x.device) # initial cell state\n",
    "\n",
    "        out, _ = self.lstm(x, (h0, c0)) # output contains both the forward and backward hidden states at each time step\n",
    "        out = self.fc(out[:, -1, :])\n",
    "        \n",
    "        return out"
   ]
  },
  {
   "cell_type": "code",
   "execution_count": 149,
   "metadata": {},
   "outputs": [
    {
     "name": "stdout",
     "output_type": "stream",
     "text": [
      "BidirectionalLSTM(\n",
      "  (lstm): LSTM(1, 64, batch_first=True, bidirectional=True)\n",
      "  (fc): Linear(in_features=128, out_features=1, bias=True)\n",
      ")\n"
     ]
    }
   ],
   "source": [
    "input_size = X_train.shape[2] # the number of features in the input data at each time step\n",
    "hidden_size = 64 # the number of neurons in each LSTM layer\n",
    "num_layers = 1 # Số lượng LSTM layer\n",
    "output_size = 1 # Regression\n",
    "\n",
    "model = BidirectionalLSTM(input_size, hidden_size, num_layers, output_size).to(device)\n",
    "criterion = nn.MSELoss()\n",
    "optimizer = torch.optim.Adam(model.parameters(), lr=0.001)\n",
    "\n",
    "print(model)"
   ]
  },
  {
   "cell_type": "code",
   "execution_count": 150,
   "metadata": {},
   "outputs": [
    {
     "name": "stdout",
     "output_type": "stream",
     "text": [
      "Epoch [1/20], Loss: 506.1655\n",
      "Epoch [2/20], Loss: 141.4358\n",
      "Epoch [3/20], Loss: 189.4006\n",
      "Epoch [4/20], Loss: 79.9476\n",
      "Epoch [5/20], Loss: 40.1023\n",
      "Epoch [6/20], Loss: 5.8571\n",
      "Epoch [7/20], Loss: 11.7210\n",
      "Epoch [8/20], Loss: 9.4705\n",
      "Epoch [9/20], Loss: 2.3733\n",
      "Epoch [10/20], Loss: 2.3918\n",
      "Epoch [11/20], Loss: 2.3070\n",
      "Epoch [12/20], Loss: 1.6456\n",
      "Epoch [13/20], Loss: 9.8003\n",
      "Epoch [14/20], Loss: 1.3378\n",
      "Epoch [15/20], Loss: 2.6690\n",
      "Epoch [16/20], Loss: 1.4115\n",
      "Epoch [17/20], Loss: 0.4022\n",
      "Epoch [18/20], Loss: 0.8271\n",
      "Epoch [19/20], Loss: 0.7733\n",
      "Epoch [20/20], Loss: 0.9868\n"
     ]
    }
   ],
   "source": [
    "num_epochs = 20\n",
    "bidirectional_lstm_train_losses = []\n",
    "for epoch in range(num_epochs):\n",
    "    epoch_loss = 0.0\n",
    "    for batch_index, batch in enumerate(train_loader):\n",
    "        batch_X, batch_y = batch[0].to(device), batch[1].to(device)\n",
    "        \n",
    "        optimizer.zero_grad()\n",
    "        outputs = model(batch_X)\n",
    "        loss = criterion(outputs, batch_y)\n",
    "        loss.backward()\n",
    "        optimizer.step()\n",
    "        epoch_loss += loss.item() * batch_size  # Multiply by batch size to get total loss in the epoch\n",
    "    epoch_loss /= len(train_loader.dataset)  # Calculate average loss per sample\n",
    "    bidirectional_lstm_train_losses.append(epoch_loss)\n",
    "    \n",
    "    print(f'Epoch [{epoch+1}/{num_epochs}], Loss: {loss.item():.4f}')"
   ]
  },
  {
   "cell_type": "code",
   "execution_count": 151,
   "metadata": {},
   "outputs": [
    {
     "name": "stdout",
     "output_type": "stream",
     "text": [
      "Average test loss: 1.3128\n"
     ]
    }
   ],
   "source": [
    "model.eval()\n",
    "with torch.no_grad():\n",
    "    total_loss = 0.0\n",
    "    num_samples = 0\n",
    "    for batch_X, batch_y in test_loader:\n",
    "        batch_X, batch_y = batch_X.to(device), batch_y.to(device)\n",
    "        outputs = model(batch_X)\n",
    "        loss = criterion(outputs, batch_y)\n",
    "        total_loss += loss.item() * batch_X.size(0)  # Accumulate the total loss\n",
    "        num_samples += batch_X.size(0)\n",
    "\n",
    "    # Calculate average test loss\n",
    "    avg_loss = total_loss / num_samples\n",
    "    print(f'Average test loss: {avg_loss:.4f}')"
   ]
  },
  {
   "cell_type": "code",
   "execution_count": 156,
   "metadata": {},
   "outputs": [
    {
     "data": {
      "image/png": "[encoded data removed]",
      "text/plain": [
       "<Figure size 640x480 with 1 Axes>"
      ]
     },
     "metadata": {},
     "output_type": "display_data"
    }
   ],
   "source": [
    "# Plot training losses\n",
    "epochs = range(1, num_epochs + 1)\n",
    "plt.plot(epochs, stacked_lstm_train_losses, label='Stacked LSTM', color='orange')\n",
    "plt.plot(epochs, bidirectional_lstm_train_losses, label='Bidirectional LSTM', color='blue')\n",
    "plt.xlabel('Epoch')\n",
    "plt.ylabel('Training Loss')\n",
    "plt.title('Comparison of Training Losses')\n",
    "plt.xticks(epochs)\n",
    "plt.legend()\n",
    "plt.show()"
   ]
  }
 ],
 "metadata": {
  "kernelspec": {
   "display_name": "Python 3 (ipykernel)",
   "language": "python",
   "name": "python3"
  },
  "language_info": {
   "codemirror_mode": {
    "name": "ipython",
    "version": 3
   },
   "file_extension": ".py",
   "mimetype": "text/x-python",
   "name": "python",
   "nbconvert_exporter": "python",
   "pygments_lexer": "ipython3",
   "version": "3.11.4"
  }
 },
 "nbformat": 4,
 "nbformat_minor": 2
}
